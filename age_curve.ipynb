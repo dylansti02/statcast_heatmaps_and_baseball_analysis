{
 "cells": [
  {
   "cell_type": "code",
   "execution_count": 1,
   "id": "ffe69b8b",
   "metadata": {},
   "outputs": [],
   "source": [
    "import pybaseball as pb\n",
    "import seaborn as sns\n",
    "import matplotlib.pyplot as plt\n",
    "import pandas as pd\n",
    "import numpy as np\n",
    "import scipy.stats as ss\n",
    "import matplotlib.ticker\n",
    "import os"
   ]
  },
  {
   "cell_type": "code",
   "execution_count": 2,
   "id": "56fcdf52",
   "metadata": {},
   "outputs": [],
   "source": [
    "pb.cache.enable()"
   ]
  },
  {
   "cell_type": "code",
   "execution_count": null,
   "id": "34b08070",
   "metadata": {},
   "outputs": [],
   "source": [
    "#The following code is to download the data and write a CSV, so that the data need not be downloaded again.  This code can be left out."
   ]
  },
  {
   "cell_type": "code",
   "execution_count": null,
   "id": "d034d945",
   "metadata": {},
   "outputs": [],
   "source": [
    "#batters_df_1=pb.batting_stats(start_season = 1920, end_season = 1980, stat_columns = ['Name', 'Age', 'Season', 'WAR', 'OPS'], qual=200)"
   ]
  },
  {
   "cell_type": "code",
   "execution_count": null,
   "id": "658a5f62",
   "metadata": {},
   "outputs": [],
   "source": [
    "#batters_df_2=pb.batting_stats(start_season = 1980, end_season = 2024, stat_columns = ['Name', 'Age', 'Season', 'WAR', 'OPS'], qual=200)"
   ]
  },
  {
   "cell_type": "code",
   "execution_count": null,
   "id": "37b0769b",
   "metadata": {},
   "outputs": [],
   "source": [
    "#batters_df = pd.concat([batters_df_1, batters_df_2]).drop_duplicates()"
   ]
  },
  {
   "cell_type": "code",
   "execution_count": null,
   "id": "35ecbe58",
   "metadata": {},
   "outputs": [],
   "source": [
    "#batters_df.to_csv('batters.csv')"
   ]
  },
  {
   "cell_type": "code",
   "execution_count": 7,
   "id": "b0d5f94d",
   "metadata": {},
   "outputs": [],
   "source": [
    "batters_df = pd.read_csv('batters.csv')"
   ]
  },
  {
   "cell_type": "code",
   "execution_count": 41,
   "id": "856ebd06",
   "metadata": {},
   "outputs": [],
   "source": [
    "from sklearn.linear_model import LinearRegression\n",
    "from sklearn.preprocessing import PolynomialFeatures\n",
    "from sklearn.pipeline import make_pipeline"
   ]
  },
  {
   "cell_type": "code",
   "execution_count": 42,
   "id": "39ab4fb3",
   "metadata": {},
   "outputs": [],
   "source": [
    "batter_model = make_pipeline(PolynomialFeatures(degree=2, include_bias=False), LinearRegression())"
   ]
  },
  {
   "cell_type": "code",
   "execution_count": 43,
   "id": "6ad48b89",
   "metadata": {},
   "outputs": [
    {
     "data": {
      "text/html": [
       "<style>#sk-container-id-3 {\n",
       "  /* Definition of color scheme common for light and dark mode */\n",
       "  --sklearn-color-text: #000;\n",
       "  --sklearn-color-text-muted: #666;\n",
       "  --sklearn-color-line: gray;\n",
       "  /* Definition of color scheme for unfitted estimators */\n",
       "  --sklearn-color-unfitted-level-0: #fff5e6;\n",
       "  --sklearn-color-unfitted-level-1: #f6e4d2;\n",
       "  --sklearn-color-unfitted-level-2: #ffe0b3;\n",
       "  --sklearn-color-unfitted-level-3: chocolate;\n",
       "  /* Definition of color scheme for fitted estimators */\n",
       "  --sklearn-color-fitted-level-0: #f0f8ff;\n",
       "  --sklearn-color-fitted-level-1: #d4ebff;\n",
       "  --sklearn-color-fitted-level-2: #b3dbfd;\n",
       "  --sklearn-color-fitted-level-3: cornflowerblue;\n",
       "\n",
       "  /* Specific color for light theme */\n",
       "  --sklearn-color-text-on-default-background: var(--sg-text-color, var(--theme-code-foreground, var(--jp-content-font-color1, black)));\n",
       "  --sklearn-color-background: var(--sg-background-color, var(--theme-background, var(--jp-layout-color0, white)));\n",
       "  --sklearn-color-border-box: var(--sg-text-color, var(--theme-code-foreground, var(--jp-content-font-color1, black)));\n",
       "  --sklearn-color-icon: #696969;\n",
       "\n",
       "  @media (prefers-color-scheme: dark) {\n",
       "    /* Redefinition of color scheme for dark theme */\n",
       "    --sklearn-color-text-on-default-background: var(--sg-text-color, var(--theme-code-foreground, var(--jp-content-font-color1, white)));\n",
       "    --sklearn-color-background: var(--sg-background-color, var(--theme-background, var(--jp-layout-color0, #111)));\n",
       "    --sklearn-color-border-box: var(--sg-text-color, var(--theme-code-foreground, var(--jp-content-font-color1, white)));\n",
       "    --sklearn-color-icon: #878787;\n",
       "  }\n",
       "}\n",
       "\n",
       "#sk-container-id-3 {\n",
       "  color: var(--sklearn-color-text);\n",
       "}\n",
       "\n",
       "#sk-container-id-3 pre {\n",
       "  padding: 0;\n",
       "}\n",
       "\n",
       "#sk-container-id-3 input.sk-hidden--visually {\n",
       "  border: 0;\n",
       "  clip: rect(1px 1px 1px 1px);\n",
       "  clip: rect(1px, 1px, 1px, 1px);\n",
       "  height: 1px;\n",
       "  margin: -1px;\n",
       "  overflow: hidden;\n",
       "  padding: 0;\n",
       "  position: absolute;\n",
       "  width: 1px;\n",
       "}\n",
       "\n",
       "#sk-container-id-3 div.sk-dashed-wrapped {\n",
       "  border: 1px dashed var(--sklearn-color-line);\n",
       "  margin: 0 0.4em 0.5em 0.4em;\n",
       "  box-sizing: border-box;\n",
       "  padding-bottom: 0.4em;\n",
       "  background-color: var(--sklearn-color-background);\n",
       "}\n",
       "\n",
       "#sk-container-id-3 div.sk-container {\n",
       "  /* jupyter's `normalize.less` sets `[hidden] { display: none; }`\n",
       "     but bootstrap.min.css set `[hidden] { display: none !important; }`\n",
       "     so we also need the `!important` here to be able to override the\n",
       "     default hidden behavior on the sphinx rendered scikit-learn.org.\n",
       "     See: https://github.com/scikit-learn/scikit-learn/issues/21755 */\n",
       "  display: inline-block !important;\n",
       "  position: relative;\n",
       "}\n",
       "\n",
       "#sk-container-id-3 div.sk-text-repr-fallback {\n",
       "  display: none;\n",
       "}\n",
       "\n",
       "div.sk-parallel-item,\n",
       "div.sk-serial,\n",
       "div.sk-item {\n",
       "  /* draw centered vertical line to link estimators */\n",
       "  background-image: linear-gradient(var(--sklearn-color-text-on-default-background), var(--sklearn-color-text-on-default-background));\n",
       "  background-size: 2px 100%;\n",
       "  background-repeat: no-repeat;\n",
       "  background-position: center center;\n",
       "}\n",
       "\n",
       "/* Parallel-specific style estimator block */\n",
       "\n",
       "#sk-container-id-3 div.sk-parallel-item::after {\n",
       "  content: \"\";\n",
       "  width: 100%;\n",
       "  border-bottom: 2px solid var(--sklearn-color-text-on-default-background);\n",
       "  flex-grow: 1;\n",
       "}\n",
       "\n",
       "#sk-container-id-3 div.sk-parallel {\n",
       "  display: flex;\n",
       "  align-items: stretch;\n",
       "  justify-content: center;\n",
       "  background-color: var(--sklearn-color-background);\n",
       "  position: relative;\n",
       "}\n",
       "\n",
       "#sk-container-id-3 div.sk-parallel-item {\n",
       "  display: flex;\n",
       "  flex-direction: column;\n",
       "}\n",
       "\n",
       "#sk-container-id-3 div.sk-parallel-item:first-child::after {\n",
       "  align-self: flex-end;\n",
       "  width: 50%;\n",
       "}\n",
       "\n",
       "#sk-container-id-3 div.sk-parallel-item:last-child::after {\n",
       "  align-self: flex-start;\n",
       "  width: 50%;\n",
       "}\n",
       "\n",
       "#sk-container-id-3 div.sk-parallel-item:only-child::after {\n",
       "  width: 0;\n",
       "}\n",
       "\n",
       "/* Serial-specific style estimator block */\n",
       "\n",
       "#sk-container-id-3 div.sk-serial {\n",
       "  display: flex;\n",
       "  flex-direction: column;\n",
       "  align-items: center;\n",
       "  background-color: var(--sklearn-color-background);\n",
       "  padding-right: 1em;\n",
       "  padding-left: 1em;\n",
       "}\n",
       "\n",
       "\n",
       "/* Toggleable style: style used for estimator/Pipeline/ColumnTransformer box that is\n",
       "clickable and can be expanded/collapsed.\n",
       "- Pipeline and ColumnTransformer use this feature and define the default style\n",
       "- Estimators will overwrite some part of the style using the `sk-estimator` class\n",
       "*/\n",
       "\n",
       "/* Pipeline and ColumnTransformer style (default) */\n",
       "\n",
       "#sk-container-id-3 div.sk-toggleable {\n",
       "  /* Default theme specific background. It is overwritten whether we have a\n",
       "  specific estimator or a Pipeline/ColumnTransformer */\n",
       "  background-color: var(--sklearn-color-background);\n",
       "}\n",
       "\n",
       "/* Toggleable label */\n",
       "#sk-container-id-3 label.sk-toggleable__label {\n",
       "  cursor: pointer;\n",
       "  display: flex;\n",
       "  width: 100%;\n",
       "  margin-bottom: 0;\n",
       "  padding: 0.5em;\n",
       "  box-sizing: border-box;\n",
       "  text-align: center;\n",
       "  align-items: start;\n",
       "  justify-content: space-between;\n",
       "  gap: 0.5em;\n",
       "}\n",
       "\n",
       "#sk-container-id-3 label.sk-toggleable__label .caption {\n",
       "  font-size: 0.6rem;\n",
       "  font-weight: lighter;\n",
       "  color: var(--sklearn-color-text-muted);\n",
       "}\n",
       "\n",
       "#sk-container-id-3 label.sk-toggleable__label-arrow:before {\n",
       "  /* Arrow on the left of the label */\n",
       "  content: \"▸\";\n",
       "  float: left;\n",
       "  margin-right: 0.25em;\n",
       "  color: var(--sklearn-color-icon);\n",
       "}\n",
       "\n",
       "#sk-container-id-3 label.sk-toggleable__label-arrow:hover:before {\n",
       "  color: var(--sklearn-color-text);\n",
       "}\n",
       "\n",
       "/* Toggleable content - dropdown */\n",
       "\n",
       "#sk-container-id-3 div.sk-toggleable__content {\n",
       "  display: none;\n",
       "  text-align: left;\n",
       "  /* unfitted */\n",
       "  background-color: var(--sklearn-color-unfitted-level-0);\n",
       "}\n",
       "\n",
       "#sk-container-id-3 div.sk-toggleable__content.fitted {\n",
       "  /* fitted */\n",
       "  background-color: var(--sklearn-color-fitted-level-0);\n",
       "}\n",
       "\n",
       "#sk-container-id-3 div.sk-toggleable__content pre {\n",
       "  margin: 0.2em;\n",
       "  border-radius: 0.25em;\n",
       "  color: var(--sklearn-color-text);\n",
       "  /* unfitted */\n",
       "  background-color: var(--sklearn-color-unfitted-level-0);\n",
       "}\n",
       "\n",
       "#sk-container-id-3 div.sk-toggleable__content.fitted pre {\n",
       "  /* unfitted */\n",
       "  background-color: var(--sklearn-color-fitted-level-0);\n",
       "}\n",
       "\n",
       "#sk-container-id-3 input.sk-toggleable__control:checked~div.sk-toggleable__content {\n",
       "  /* Expand drop-down */\n",
       "  display: block;\n",
       "  width: 100%;\n",
       "  overflow: visible;\n",
       "}\n",
       "\n",
       "#sk-container-id-3 input.sk-toggleable__control:checked~label.sk-toggleable__label-arrow:before {\n",
       "  content: \"▾\";\n",
       "}\n",
       "\n",
       "/* Pipeline/ColumnTransformer-specific style */\n",
       "\n",
       "#sk-container-id-3 div.sk-label input.sk-toggleable__control:checked~label.sk-toggleable__label {\n",
       "  color: var(--sklearn-color-text);\n",
       "  background-color: var(--sklearn-color-unfitted-level-2);\n",
       "}\n",
       "\n",
       "#sk-container-id-3 div.sk-label.fitted input.sk-toggleable__control:checked~label.sk-toggleable__label {\n",
       "  background-color: var(--sklearn-color-fitted-level-2);\n",
       "}\n",
       "\n",
       "/* Estimator-specific style */\n",
       "\n",
       "/* Colorize estimator box */\n",
       "#sk-container-id-3 div.sk-estimator input.sk-toggleable__control:checked~label.sk-toggleable__label {\n",
       "  /* unfitted */\n",
       "  background-color: var(--sklearn-color-unfitted-level-2);\n",
       "}\n",
       "\n",
       "#sk-container-id-3 div.sk-estimator.fitted input.sk-toggleable__control:checked~label.sk-toggleable__label {\n",
       "  /* fitted */\n",
       "  background-color: var(--sklearn-color-fitted-level-2);\n",
       "}\n",
       "\n",
       "#sk-container-id-3 div.sk-label label.sk-toggleable__label,\n",
       "#sk-container-id-3 div.sk-label label {\n",
       "  /* The background is the default theme color */\n",
       "  color: var(--sklearn-color-text-on-default-background);\n",
       "}\n",
       "\n",
       "/* On hover, darken the color of the background */\n",
       "#sk-container-id-3 div.sk-label:hover label.sk-toggleable__label {\n",
       "  color: var(--sklearn-color-text);\n",
       "  background-color: var(--sklearn-color-unfitted-level-2);\n",
       "}\n",
       "\n",
       "/* Label box, darken color on hover, fitted */\n",
       "#sk-container-id-3 div.sk-label.fitted:hover label.sk-toggleable__label.fitted {\n",
       "  color: var(--sklearn-color-text);\n",
       "  background-color: var(--sklearn-color-fitted-level-2);\n",
       "}\n",
       "\n",
       "/* Estimator label */\n",
       "\n",
       "#sk-container-id-3 div.sk-label label {\n",
       "  font-family: monospace;\n",
       "  font-weight: bold;\n",
       "  display: inline-block;\n",
       "  line-height: 1.2em;\n",
       "}\n",
       "\n",
       "#sk-container-id-3 div.sk-label-container {\n",
       "  text-align: center;\n",
       "}\n",
       "\n",
       "/* Estimator-specific */\n",
       "#sk-container-id-3 div.sk-estimator {\n",
       "  font-family: monospace;\n",
       "  border: 1px dotted var(--sklearn-color-border-box);\n",
       "  border-radius: 0.25em;\n",
       "  box-sizing: border-box;\n",
       "  margin-bottom: 0.5em;\n",
       "  /* unfitted */\n",
       "  background-color: var(--sklearn-color-unfitted-level-0);\n",
       "}\n",
       "\n",
       "#sk-container-id-3 div.sk-estimator.fitted {\n",
       "  /* fitted */\n",
       "  background-color: var(--sklearn-color-fitted-level-0);\n",
       "}\n",
       "\n",
       "/* on hover */\n",
       "#sk-container-id-3 div.sk-estimator:hover {\n",
       "  /* unfitted */\n",
       "  background-color: var(--sklearn-color-unfitted-level-2);\n",
       "}\n",
       "\n",
       "#sk-container-id-3 div.sk-estimator.fitted:hover {\n",
       "  /* fitted */\n",
       "  background-color: var(--sklearn-color-fitted-level-2);\n",
       "}\n",
       "\n",
       "/* Specification for estimator info (e.g. \"i\" and \"?\") */\n",
       "\n",
       "/* Common style for \"i\" and \"?\" */\n",
       "\n",
       ".sk-estimator-doc-link,\n",
       "a:link.sk-estimator-doc-link,\n",
       "a:visited.sk-estimator-doc-link {\n",
       "  float: right;\n",
       "  font-size: smaller;\n",
       "  line-height: 1em;\n",
       "  font-family: monospace;\n",
       "  background-color: var(--sklearn-color-background);\n",
       "  border-radius: 1em;\n",
       "  height: 1em;\n",
       "  width: 1em;\n",
       "  text-decoration: none !important;\n",
       "  margin-left: 0.5em;\n",
       "  text-align: center;\n",
       "  /* unfitted */\n",
       "  border: var(--sklearn-color-unfitted-level-1) 1pt solid;\n",
       "  color: var(--sklearn-color-unfitted-level-1);\n",
       "}\n",
       "\n",
       ".sk-estimator-doc-link.fitted,\n",
       "a:link.sk-estimator-doc-link.fitted,\n",
       "a:visited.sk-estimator-doc-link.fitted {\n",
       "  /* fitted */\n",
       "  border: var(--sklearn-color-fitted-level-1) 1pt solid;\n",
       "  color: var(--sklearn-color-fitted-level-1);\n",
       "}\n",
       "\n",
       "/* On hover */\n",
       "div.sk-estimator:hover .sk-estimator-doc-link:hover,\n",
       ".sk-estimator-doc-link:hover,\n",
       "div.sk-label-container:hover .sk-estimator-doc-link:hover,\n",
       ".sk-estimator-doc-link:hover {\n",
       "  /* unfitted */\n",
       "  background-color: var(--sklearn-color-unfitted-level-3);\n",
       "  color: var(--sklearn-color-background);\n",
       "  text-decoration: none;\n",
       "}\n",
       "\n",
       "div.sk-estimator.fitted:hover .sk-estimator-doc-link.fitted:hover,\n",
       ".sk-estimator-doc-link.fitted:hover,\n",
       "div.sk-label-container:hover .sk-estimator-doc-link.fitted:hover,\n",
       ".sk-estimator-doc-link.fitted:hover {\n",
       "  /* fitted */\n",
       "  background-color: var(--sklearn-color-fitted-level-3);\n",
       "  color: var(--sklearn-color-background);\n",
       "  text-decoration: none;\n",
       "}\n",
       "\n",
       "/* Span, style for the box shown on hovering the info icon */\n",
       ".sk-estimator-doc-link span {\n",
       "  display: none;\n",
       "  z-index: 9999;\n",
       "  position: relative;\n",
       "  font-weight: normal;\n",
       "  right: .2ex;\n",
       "  padding: .5ex;\n",
       "  margin: .5ex;\n",
       "  width: min-content;\n",
       "  min-width: 20ex;\n",
       "  max-width: 50ex;\n",
       "  color: var(--sklearn-color-text);\n",
       "  box-shadow: 2pt 2pt 4pt #999;\n",
       "  /* unfitted */\n",
       "  background: var(--sklearn-color-unfitted-level-0);\n",
       "  border: .5pt solid var(--sklearn-color-unfitted-level-3);\n",
       "}\n",
       "\n",
       ".sk-estimator-doc-link.fitted span {\n",
       "  /* fitted */\n",
       "  background: var(--sklearn-color-fitted-level-0);\n",
       "  border: var(--sklearn-color-fitted-level-3);\n",
       "}\n",
       "\n",
       ".sk-estimator-doc-link:hover span {\n",
       "  display: block;\n",
       "}\n",
       "\n",
       "/* \"?\"-specific style due to the `<a>` HTML tag */\n",
       "\n",
       "#sk-container-id-3 a.estimator_doc_link {\n",
       "  float: right;\n",
       "  font-size: 1rem;\n",
       "  line-height: 1em;\n",
       "  font-family: monospace;\n",
       "  background-color: var(--sklearn-color-background);\n",
       "  border-radius: 1rem;\n",
       "  height: 1rem;\n",
       "  width: 1rem;\n",
       "  text-decoration: none;\n",
       "  /* unfitted */\n",
       "  color: var(--sklearn-color-unfitted-level-1);\n",
       "  border: var(--sklearn-color-unfitted-level-1) 1pt solid;\n",
       "}\n",
       "\n",
       "#sk-container-id-3 a.estimator_doc_link.fitted {\n",
       "  /* fitted */\n",
       "  border: var(--sklearn-color-fitted-level-1) 1pt solid;\n",
       "  color: var(--sklearn-color-fitted-level-1);\n",
       "}\n",
       "\n",
       "/* On hover */\n",
       "#sk-container-id-3 a.estimator_doc_link:hover {\n",
       "  /* unfitted */\n",
       "  background-color: var(--sklearn-color-unfitted-level-3);\n",
       "  color: var(--sklearn-color-background);\n",
       "  text-decoration: none;\n",
       "}\n",
       "\n",
       "#sk-container-id-3 a.estimator_doc_link.fitted:hover {\n",
       "  /* fitted */\n",
       "  background-color: var(--sklearn-color-fitted-level-3);\n",
       "}\n",
       "\n",
       ".estimator-table summary {\n",
       "    padding: .5rem;\n",
       "    font-family: monospace;\n",
       "    cursor: pointer;\n",
       "}\n",
       "\n",
       ".estimator-table details[open] {\n",
       "    padding-left: 0.1rem;\n",
       "    padding-right: 0.1rem;\n",
       "    padding-bottom: 0.3rem;\n",
       "}\n",
       "\n",
       ".estimator-table .parameters-table {\n",
       "    margin-left: auto !important;\n",
       "    margin-right: auto !important;\n",
       "}\n",
       "\n",
       ".estimator-table .parameters-table tr:nth-child(odd) {\n",
       "    background-color: #fff;\n",
       "}\n",
       "\n",
       ".estimator-table .parameters-table tr:nth-child(even) {\n",
       "    background-color: #f6f6f6;\n",
       "}\n",
       "\n",
       ".estimator-table .parameters-table tr:hover {\n",
       "    background-color: #e0e0e0;\n",
       "}\n",
       "\n",
       ".estimator-table table td {\n",
       "    border: 1px solid rgba(106, 105, 104, 0.232);\n",
       "}\n",
       "\n",
       ".user-set td {\n",
       "    color:rgb(255, 94, 0);\n",
       "    text-align: left;\n",
       "}\n",
       "\n",
       ".user-set td.value pre {\n",
       "    color:rgb(255, 94, 0) !important;\n",
       "    background-color: transparent !important;\n",
       "}\n",
       "\n",
       ".default td {\n",
       "    color: black;\n",
       "    text-align: left;\n",
       "}\n",
       "\n",
       ".user-set td i,\n",
       ".default td i {\n",
       "    color: black;\n",
       "}\n",
       "\n",
       ".copy-paste-icon {\n",
       "    background-image: url(data:image/svg+xml;base64,PHN2ZyB4bWxucz0iaHR0cDovL3d3dy53My5vcmcvMjAwMC9zdmciIHZpZXdCb3g9IjAgMCA0NDggNTEyIj48IS0tIUZvbnQgQXdlc29tZSBGcmVlIDYuNy4yIGJ5IEBmb250YXdlc29tZSAtIGh0dHBzOi8vZm9udGF3ZXNvbWUuY29tIExpY2Vuc2UgLSBodHRwczovL2ZvbnRhd2Vzb21lLmNvbS9saWNlbnNlL2ZyZWUgQ29weXJpZ2h0IDIwMjUgRm9udGljb25zLCBJbmMuLS0+PHBhdGggZD0iTTIwOCAwTDMzMi4xIDBjMTIuNyAwIDI0LjkgNS4xIDMzLjkgMTQuMWw2Ny45IDY3LjljOSA5IDE0LjEgMjEuMiAxNC4xIDMzLjlMNDQ4IDMzNmMwIDI2LjUtMjEuNSA0OC00OCA0OGwtMTkyIDBjLTI2LjUgMC00OC0yMS41LTQ4LTQ4bDAtMjg4YzAtMjYuNSAyMS41LTQ4IDQ4LTQ4ek00OCAxMjhsODAgMCAwIDY0LTY0IDAgMCAyNTYgMTkyIDAgMC0zMiA2NCAwIDAgNDhjMCAyNi41LTIxLjUgNDgtNDggNDhMNDggNTEyYy0yNi41IDAtNDgtMjEuNS00OC00OEwwIDE3NmMwLTI2LjUgMjEuNS00OCA0OC00OHoiLz48L3N2Zz4=);\n",
       "    background-repeat: no-repeat;\n",
       "    background-size: 14px 14px;\n",
       "    background-position: 0;\n",
       "    display: inline-block;\n",
       "    width: 14px;\n",
       "    height: 14px;\n",
       "    cursor: pointer;\n",
       "}\n",
       "</style><body><div id=\"sk-container-id-3\" class=\"sk-top-container\"><div class=\"sk-text-repr-fallback\"><pre>Pipeline(steps=[(&#x27;polynomialfeatures&#x27;, PolynomialFeatures(include_bias=False)),\n",
       "                (&#x27;linearregression&#x27;, LinearRegression())])</pre><b>In a Jupyter environment, please rerun this cell to show the HTML representation or trust the notebook. <br />On GitHub, the HTML representation is unable to render, please try loading this page with nbviewer.org.</b></div><div class=\"sk-container\" hidden><div class=\"sk-item sk-dashed-wrapped\"><div class=\"sk-label-container\"><div class=\"sk-label fitted sk-toggleable\"><input class=\"sk-toggleable__control sk-hidden--visually\" id=\"sk-estimator-id-3\" type=\"checkbox\" ><label for=\"sk-estimator-id-3\" class=\"sk-toggleable__label fitted sk-toggleable__label-arrow\"><div><div>Pipeline</div></div><div><a class=\"sk-estimator-doc-link fitted\" rel=\"noreferrer\" target=\"_blank\" href=\"https://scikit-learn.org/1.7/modules/generated/sklearn.pipeline.Pipeline.html\">?<span>Documentation for Pipeline</span></a><span class=\"sk-estimator-doc-link fitted\">i<span>Fitted</span></span></div></label><div class=\"sk-toggleable__content fitted\" data-param-prefix=\"\">\n",
       "        <div class=\"estimator-table\">\n",
       "            <details>\n",
       "                <summary>Parameters</summary>\n",
       "                <table class=\"parameters-table\">\n",
       "                  <tbody>\n",
       "                    \n",
       "        <tr class=\"user-set\">\n",
       "            <td><i class=\"copy-paste-icon\"\n",
       "                 onclick=\"copyToClipboard('steps',\n",
       "                          this.parentElement.nextElementSibling)\"\n",
       "            ></i></td>\n",
       "            <td class=\"param\">steps&nbsp;</td>\n",
       "            <td class=\"value\">[(&#x27;polynomialfeatures&#x27;, ...), (&#x27;linearregression&#x27;, ...)]</td>\n",
       "        </tr>\n",
       "    \n",
       "\n",
       "        <tr class=\"default\">\n",
       "            <td><i class=\"copy-paste-icon\"\n",
       "                 onclick=\"copyToClipboard('transform_input',\n",
       "                          this.parentElement.nextElementSibling)\"\n",
       "            ></i></td>\n",
       "            <td class=\"param\">transform_input&nbsp;</td>\n",
       "            <td class=\"value\">None</td>\n",
       "        </tr>\n",
       "    \n",
       "\n",
       "        <tr class=\"default\">\n",
       "            <td><i class=\"copy-paste-icon\"\n",
       "                 onclick=\"copyToClipboard('memory',\n",
       "                          this.parentElement.nextElementSibling)\"\n",
       "            ></i></td>\n",
       "            <td class=\"param\">memory&nbsp;</td>\n",
       "            <td class=\"value\">None</td>\n",
       "        </tr>\n",
       "    \n",
       "\n",
       "        <tr class=\"default\">\n",
       "            <td><i class=\"copy-paste-icon\"\n",
       "                 onclick=\"copyToClipboard('verbose',\n",
       "                          this.parentElement.nextElementSibling)\"\n",
       "            ></i></td>\n",
       "            <td class=\"param\">verbose&nbsp;</td>\n",
       "            <td class=\"value\">False</td>\n",
       "        </tr>\n",
       "    \n",
       "                  </tbody>\n",
       "                </table>\n",
       "            </details>\n",
       "        </div>\n",
       "    </div></div></div><div class=\"sk-serial\"><div class=\"sk-item\"><div class=\"sk-estimator fitted sk-toggleable\"><input class=\"sk-toggleable__control sk-hidden--visually\" id=\"sk-estimator-id-4\" type=\"checkbox\" ><label for=\"sk-estimator-id-4\" class=\"sk-toggleable__label fitted sk-toggleable__label-arrow\"><div><div>PolynomialFeatures</div></div><div><a class=\"sk-estimator-doc-link fitted\" rel=\"noreferrer\" target=\"_blank\" href=\"https://scikit-learn.org/1.7/modules/generated/sklearn.preprocessing.PolynomialFeatures.html\">?<span>Documentation for PolynomialFeatures</span></a></div></label><div class=\"sk-toggleable__content fitted\" data-param-prefix=\"polynomialfeatures__\">\n",
       "        <div class=\"estimator-table\">\n",
       "            <details>\n",
       "                <summary>Parameters</summary>\n",
       "                <table class=\"parameters-table\">\n",
       "                  <tbody>\n",
       "                    \n",
       "        <tr class=\"default\">\n",
       "            <td><i class=\"copy-paste-icon\"\n",
       "                 onclick=\"copyToClipboard('degree',\n",
       "                          this.parentElement.nextElementSibling)\"\n",
       "            ></i></td>\n",
       "            <td class=\"param\">degree&nbsp;</td>\n",
       "            <td class=\"value\">2</td>\n",
       "        </tr>\n",
       "    \n",
       "\n",
       "        <tr class=\"default\">\n",
       "            <td><i class=\"copy-paste-icon\"\n",
       "                 onclick=\"copyToClipboard('interaction_only',\n",
       "                          this.parentElement.nextElementSibling)\"\n",
       "            ></i></td>\n",
       "            <td class=\"param\">interaction_only&nbsp;</td>\n",
       "            <td class=\"value\">False</td>\n",
       "        </tr>\n",
       "    \n",
       "\n",
       "        <tr class=\"user-set\">\n",
       "            <td><i class=\"copy-paste-icon\"\n",
       "                 onclick=\"copyToClipboard('include_bias',\n",
       "                          this.parentElement.nextElementSibling)\"\n",
       "            ></i></td>\n",
       "            <td class=\"param\">include_bias&nbsp;</td>\n",
       "            <td class=\"value\">False</td>\n",
       "        </tr>\n",
       "    \n",
       "\n",
       "        <tr class=\"default\">\n",
       "            <td><i class=\"copy-paste-icon\"\n",
       "                 onclick=\"copyToClipboard('order',\n",
       "                          this.parentElement.nextElementSibling)\"\n",
       "            ></i></td>\n",
       "            <td class=\"param\">order&nbsp;</td>\n",
       "            <td class=\"value\">&#x27;C&#x27;</td>\n",
       "        </tr>\n",
       "    \n",
       "                  </tbody>\n",
       "                </table>\n",
       "            </details>\n",
       "        </div>\n",
       "    </div></div></div><div class=\"sk-item\"><div class=\"sk-estimator fitted sk-toggleable\"><input class=\"sk-toggleable__control sk-hidden--visually\" id=\"sk-estimator-id-5\" type=\"checkbox\" ><label for=\"sk-estimator-id-5\" class=\"sk-toggleable__label fitted sk-toggleable__label-arrow\"><div><div>LinearRegression</div></div><div><a class=\"sk-estimator-doc-link fitted\" rel=\"noreferrer\" target=\"_blank\" href=\"https://scikit-learn.org/1.7/modules/generated/sklearn.linear_model.LinearRegression.html\">?<span>Documentation for LinearRegression</span></a></div></label><div class=\"sk-toggleable__content fitted\" data-param-prefix=\"linearregression__\">\n",
       "        <div class=\"estimator-table\">\n",
       "            <details>\n",
       "                <summary>Parameters</summary>\n",
       "                <table class=\"parameters-table\">\n",
       "                  <tbody>\n",
       "                    \n",
       "        <tr class=\"default\">\n",
       "            <td><i class=\"copy-paste-icon\"\n",
       "                 onclick=\"copyToClipboard('fit_intercept',\n",
       "                          this.parentElement.nextElementSibling)\"\n",
       "            ></i></td>\n",
       "            <td class=\"param\">fit_intercept&nbsp;</td>\n",
       "            <td class=\"value\">True</td>\n",
       "        </tr>\n",
       "    \n",
       "\n",
       "        <tr class=\"default\">\n",
       "            <td><i class=\"copy-paste-icon\"\n",
       "                 onclick=\"copyToClipboard('copy_X',\n",
       "                          this.parentElement.nextElementSibling)\"\n",
       "            ></i></td>\n",
       "            <td class=\"param\">copy_X&nbsp;</td>\n",
       "            <td class=\"value\">True</td>\n",
       "        </tr>\n",
       "    \n",
       "\n",
       "        <tr class=\"default\">\n",
       "            <td><i class=\"copy-paste-icon\"\n",
       "                 onclick=\"copyToClipboard('tol',\n",
       "                          this.parentElement.nextElementSibling)\"\n",
       "            ></i></td>\n",
       "            <td class=\"param\">tol&nbsp;</td>\n",
       "            <td class=\"value\">1e-06</td>\n",
       "        </tr>\n",
       "    \n",
       "\n",
       "        <tr class=\"default\">\n",
       "            <td><i class=\"copy-paste-icon\"\n",
       "                 onclick=\"copyToClipboard('n_jobs',\n",
       "                          this.parentElement.nextElementSibling)\"\n",
       "            ></i></td>\n",
       "            <td class=\"param\">n_jobs&nbsp;</td>\n",
       "            <td class=\"value\">None</td>\n",
       "        </tr>\n",
       "    \n",
       "\n",
       "        <tr class=\"default\">\n",
       "            <td><i class=\"copy-paste-icon\"\n",
       "                 onclick=\"copyToClipboard('positive',\n",
       "                          this.parentElement.nextElementSibling)\"\n",
       "            ></i></td>\n",
       "            <td class=\"param\">positive&nbsp;</td>\n",
       "            <td class=\"value\">False</td>\n",
       "        </tr>\n",
       "    \n",
       "                  </tbody>\n",
       "                </table>\n",
       "            </details>\n",
       "        </div>\n",
       "    </div></div></div></div></div></div></div><script>function copyToClipboard(text, element) {\n",
       "    // Get the parameter prefix from the closest toggleable content\n",
       "    const toggleableContent = element.closest('.sk-toggleable__content');\n",
       "    const paramPrefix = toggleableContent ? toggleableContent.dataset.paramPrefix : '';\n",
       "    const fullParamName = paramPrefix ? `${paramPrefix}${text}` : text;\n",
       "\n",
       "    const originalStyle = element.style;\n",
       "    const computedStyle = window.getComputedStyle(element);\n",
       "    const originalWidth = computedStyle.width;\n",
       "    const originalHTML = element.innerHTML.replace('Copied!', '');\n",
       "\n",
       "    navigator.clipboard.writeText(fullParamName)\n",
       "        .then(() => {\n",
       "            element.style.width = originalWidth;\n",
       "            element.style.color = 'green';\n",
       "            element.innerHTML = \"Copied!\";\n",
       "\n",
       "            setTimeout(() => {\n",
       "                element.innerHTML = originalHTML;\n",
       "                element.style = originalStyle;\n",
       "            }, 2000);\n",
       "        })\n",
       "        .catch(err => {\n",
       "            console.error('Failed to copy:', err);\n",
       "            element.style.color = 'red';\n",
       "            element.innerHTML = \"Failed!\";\n",
       "            setTimeout(() => {\n",
       "                element.innerHTML = originalHTML;\n",
       "                element.style = originalStyle;\n",
       "            }, 2000);\n",
       "        });\n",
       "    return false;\n",
       "}\n",
       "\n",
       "document.querySelectorAll('.fa-regular.fa-copy').forEach(function(element) {\n",
       "    const toggleableContent = element.closest('.sk-toggleable__content');\n",
       "    const paramPrefix = toggleableContent ? toggleableContent.dataset.paramPrefix : '';\n",
       "    const paramName = element.parentElement.nextElementSibling.textContent.trim();\n",
       "    const fullParamName = paramPrefix ? `${paramPrefix}${paramName}` : paramName;\n",
       "\n",
       "    element.setAttribute('title', fullParamName);\n",
       "});\n",
       "</script></body>"
      ],
      "text/plain": [
       "Pipeline(steps=[('polynomialfeatures', PolynomialFeatures(include_bias=False)),\n",
       "                ('linearregression', LinearRegression())])"
      ]
     },
     "execution_count": 43,
     "metadata": {},
     "output_type": "execute_result"
    }
   ],
   "source": [
    "batter_model.fit(batters_df[['Age']], batters_df['WAR'])"
   ]
  },
  {
   "cell_type": "code",
   "execution_count": 44,
   "id": "fd7de98f",
   "metadata": {},
   "outputs": [],
   "source": [
    "batter_steps = batter_model.named_steps['linearregression']"
   ]
  },
  {
   "cell_type": "code",
   "execution_count": 49,
   "id": "8894a99e",
   "metadata": {},
   "outputs": [
    {
     "data": {
      "text/plain": [
       "'(Our first estimate at an aging curve for batters gives the model:  WAR = -2.4047011577646513 + 0.3038444804020386*Age + -0.005482156587131644*Age^2)'"
      ]
     },
     "execution_count": 49,
     "metadata": {},
     "output_type": "execute_result"
    }
   ],
   "source": [
    "f'(Our first estimate at an aging curve for batters gives the model:  WAR = {batter_steps.intercept_} + {batter_steps.coef_[0]}*Age + {batter_steps.coef_[1]}*Age^2)'"
   ]
  },
  {
   "cell_type": "code",
   "execution_count": 55,
   "id": "f065bba2",
   "metadata": {},
   "outputs": [
    {
     "name": "stderr",
     "output_type": "stream",
     "text": [
      "c:\\Users\\dylan\\anaconda3\\envs\\baseball_data\\Lib\\site-packages\\sklearn\\utils\\validation.py:2749: UserWarning: X does not have valid feature names, but PolynomialFeatures was fitted with feature names\n",
      "  warnings.warn(\n"
     ]
    },
    {
     "data": {
      "image/png": "[encoded data removed]",
      "text/plain": [
       "<Figure size 640x480 with 1 Axes>"
      ]
     },
     "metadata": {},
     "output_type": "display_data"
    }
   ],
   "source": [
    "ages = np.linspace(batters_df['Age'].min(), batters_df['Age'].max(), 100).reshape(-1, 1)\n",
    "war_pred = batter_model.predict(ages)\n",
    "\n",
    "plt.scatter(batters_df['Age'], batters_df['WAR'], color='gray', alpha=0.5, label='Actual')\n",
    "plt.plot(ages, war_pred, color='red', linewidth=2, label='Quadratic Fit')\n",
    "plt.xlabel('Age')\n",
    "plt.ylabel('WAR')\n",
    "plt.title('Quadratic Regression: Age vs WAR')\n",
    "plt.legend()\n",
    "plt.grid(True)\n",
    "plt.show()"
   ]
  },
  {
   "cell_type": "code",
   "execution_count": null,
   "id": "b654b7a9",
   "metadata": {},
   "outputs": [],
   "source": [
    "#This is obviously much too general, we have to try to account for player ability.  We can start with fixed-effects model"
   ]
  },
  {
   "cell_type": "code",
   "execution_count": 50,
   "id": "b3a27d8a",
   "metadata": {},
   "outputs": [],
   "source": [
    "from statsmodels.formula.api import ols"
   ]
  },
  {
   "cell_type": "code",
   "execution_count": 51,
   "id": "e3269462",
   "metadata": {},
   "outputs": [],
   "source": [
    "batters_df['Age2'] = batters_df['Age']**2"
   ]
  },
  {
   "cell_type": "code",
   "execution_count": 61,
   "id": "d7b33210",
   "metadata": {},
   "outputs": [],
   "source": [
    "#batter_fixedeffects = ols('WAR~Age+Age2+C(IDfg)', data=batters_df).fit()\n",
    "\n",
    "#This doesn't work without first removing players with careers which are too short.\n",
    "batters_df_fe = batters_df.groupby('IDfg').filter(lambda x: len(x) > 3)\n",
    "batter_fixedeffects = ols('WAR~Age+Age2+C(IDfg)', data=batters_df_fe).fit()"
   ]
  },
  {
   "cell_type": "code",
   "execution_count": null,
   "id": "6bbf8ded",
   "metadata": {},
   "outputs": [
    {
     "data": {
      "application/vnd.microsoft.datawrangler.viewer.v0+json": {
       "columns": [
        {
         "name": "index",
         "rawType": "object",
         "type": "string"
        },
        {
         "name": "0",
         "rawType": "float64",
         "type": "float"
        }
       ],
       "ref": "532bf4a2-ed6a-43f0-a281-619142a38069",
       "rows": [
        [
         "Intercept",
         "-13.019066416464762"
        ],
        [
         "Age",
         "1.1475626150155234"
        ],
        [
         "Age2",
         "-0.021481653157474908"
        ]
       ],
       "shape": {
        "columns": 1,
        "rows": 3
       }
      },
      "text/plain": [
       "Intercept   -13.019066\n",
       "Age           1.147563\n",
       "Age2         -0.021482\n",
       "dtype: float64"
      ]
     },
     "execution_count": 72,
     "metadata": {},
     "output_type": "execute_result"
    }
   ],
   "source": [
    "batter_fixedeffects.params[['Intercept','Age', 'Age2']]"
   ]
  },
  {
   "cell_type": "code",
   "execution_count": 76,
   "id": "597c4ca5",
   "metadata": {},
   "outputs": [
    {
     "data": {
      "application/vnd.microsoft.datawrangler.viewer.v0+json": {
       "columns": [
        {
         "name": "index",
         "rawType": "object",
         "type": "string"
        },
        {
         "name": "0",
         "rawType": "float64",
         "type": "float"
        }
       ],
       "ref": "d1d98242-ef1f-41db-a11c-1469cfc09f81",
       "rows": [
        [
         "Age",
         "5.229091025418406e-292"
        ],
        [
         "Age2",
         "0.0"
        ]
       ],
       "shape": {
        "columns": 1,
        "rows": 2
       }
      },
      "text/plain": [
       "Age     5.229091e-292\n",
       "Age2     0.000000e+00\n",
       "dtype: float64"
      ]
     },
     "execution_count": 76,
     "metadata": {},
     "output_type": "execute_result"
    }
   ],
   "source": [
    "batter_fixedeffects.pvalues[['Age','Age2']]"
   ]
  },
  {
   "cell_type": "code",
   "execution_count": 77,
   "id": "380bc8e9",
   "metadata": {},
   "outputs": [
    {
     "data": {
      "image/png": "[encoded data removed]",
      "text/plain": [
       "<Figure size 800x500 with 1 Axes>"
      ]
     },
     "metadata": {},
     "output_type": "display_data"
    }
   ],
   "source": [
    "intercept = batter_fixedeffects.params['Intercept']\n",
    "coef_age = batter_fixedeffects.params['Age']\n",
    "coef_age2 = batter_fixedeffects.params['Age2']\n",
    "age_range = np.linspace(batters_df_fe['Age'].min(), batters_df_fe['Age'].max(), 100)\n",
    "predicted_war = intercept + coef_age * age_range + coef_age2 * (age_range ** 2)\n",
    "plt.figure(figsize=(8,5))\n",
    "plt.plot(age_range, predicted_war, label='Predicted WAR (Average Aging Curve)')\n",
    "plt.scatter(batters_df_fe['Age'], batters_df_fe['WAR'], alpha=0.3, label='Observed WAR')\n",
    "plt.xlabel('Age')\n",
    "plt.ylabel('WAR')\n",
    "plt.title('Fitted Quadratic Aging Curve (Fixed Effects Model)')\n",
    "plt.legend()\n",
    "plt.grid(True)\n",
    "plt.show()"
   ]
  },
  {
   "cell_type": "code",
   "execution_count": 79,
   "id": "5efa2dba",
   "metadata": {},
   "outputs": [
    {
     "name": "stdout",
     "output_type": "stream",
     "text": [
      "[np.float64(88226.56303573455), np.float64(110317.98132635477)]\n"
     ]
    }
   ],
   "source": [
    "print([batter_fixedeffects.aic,batter_fixedeffects.bic])"
   ]
  },
  {
   "cell_type": "code",
   "execution_count": null,
   "id": "3fe3e105",
   "metadata": {},
   "outputs": [],
   "source": [
    "#We can do better and lose less data with a random/mixed effects model"
   ]
  },
  {
   "cell_type": "code",
   "execution_count": null,
   "id": "7196bcd9",
   "metadata": {},
   "outputs": [],
   "source": [
    "from statsmodels.formula.api import mixedlm"
   ]
  },
  {
   "cell_type": "code",
   "execution_count": 83,
   "id": "1f87b707",
   "metadata": {},
   "outputs": [],
   "source": [
    "batter_mixed = mixedlm(\"WAR ~ Age + Age2\", data=batters_df, groups=batters_df[\"IDfg\"])"
   ]
  },
  {
   "cell_type": "code",
   "execution_count": 87,
   "id": "adf4029c",
   "metadata": {},
   "outputs": [],
   "source": [
    "batter_mixed_results = batter_mixed.fit(reml=False)"
   ]
  },
  {
   "cell_type": "code",
   "execution_count": 88,
   "id": "c483d22a",
   "metadata": {},
   "outputs": [
    {
     "data": {
      "text/html": [
       "<table class=\"simpletable\">\n",
       "<tr>\n",
       "       <td>Model:</td>       <td>MixedLM</td> <td>Dependent Variable:</td>     <td>WAR</td>    \n",
       "</tr>\n",
       "<tr>\n",
       "  <td>No. Observations:</td>  <td>27131</td>        <td>Method:</td>           <td>ML</td>     \n",
       "</tr>\n",
       "<tr>\n",
       "     <td>No. Groups:</td>     <td>4912</td>         <td>Scale:</td>          <td>2.1895</td>   \n",
       "</tr>\n",
       "<tr>\n",
       "  <td>Min. group size:</td>     <td>1</td>      <td>Log-Likelihood:</td>   <td>-52549.4625</td>\n",
       "</tr>\n",
       "<tr>\n",
       "  <td>Max. group size:</td>    <td>24</td>        <td>Converged:</td>          <td>Yes</td>    \n",
       "</tr>\n",
       "<tr>\n",
       "  <td>Mean group size:</td>    <td>5.5</td>            <td></td>                <td></td>      \n",
       "</tr>\n",
       "</table>\n",
       "<table class=\"simpletable\">\n",
       "<tr>\n",
       "      <td></td>       <th>Coef.</th>  <th>Std.Err.</th>    <th>z</th>    <th>P>|z|</th> <th>[0.025</th>  <th>0.975]</th> \n",
       "</tr>\n",
       "<tr>\n",
       "  <th>Intercept</th> <td>-12.063</td>   <td>0.414</td>  <td>-29.107</td> <td>0.000</td> <td>-12.876</td> <td>-11.251</td>\n",
       "</tr>\n",
       "<tr>\n",
       "  <th>Age</th>        <td>1.009</td>    <td>0.028</td>  <td>35.444</td>  <td>0.000</td>  <td>0.953</td>   <td>1.065</td> \n",
       "</tr>\n",
       "<tr>\n",
       "  <th>Age2</th>      <td>-0.019</td>    <td>0.000</td>  <td>-38.618</td> <td>0.000</td> <td>-0.020</td>  <td>-0.018</td> \n",
       "</tr>\n",
       "<tr>\n",
       "  <th>Group Var</th>  <td>1.552</td>    <td>0.030</td>     <td></td>       <td></td>       <td></td>        <td></td>    \n",
       "</tr>\n",
       "</table><br/>\n"
      ],
      "text/latex": [
       "\\begin{table}\n",
       "\\caption{Mixed Linear Model Regression Results}\n",
       "\\label{}\n",
       "\\begin{center}\n",
       "\\begin{tabular}{llll}\n",
       "\\hline\n",
       "Model:            & MixedLM & Dependent Variable: & WAR          \\\\\n",
       "No. Observations: & 27131   & Method:             & ML           \\\\\n",
       "No. Groups:       & 4912    & Scale:              & 2.1895       \\\\\n",
       "Min. group size:  & 1       & Log-Likelihood:     & -52549.4625  \\\\\n",
       "Max. group size:  & 24      & Converged:          & Yes          \\\\\n",
       "Mean group size:  & 5.5     &                     &              \\\\\n",
       "\\hline\n",
       "\\end{tabular}\n",
       "\\end{center}\n",
       "\n",
       "\\begin{center}\n",
       "\\begin{tabular}{lrrrrrr}\n",
       "\\hline\n",
       "          &   Coef. & Std.Err. &       z & P$> |$z$|$ &  [0.025 &  0.975]  \\\\\n",
       "\\hline\n",
       "Intercept & -12.063 &    0.414 & -29.107 &       0.000 & -12.876 & -11.251  \\\\\n",
       "Age       &   1.009 &    0.028 &  35.444 &       0.000 &   0.953 &   1.065  \\\\\n",
       "Age2      &  -0.019 &    0.000 & -38.618 &       0.000 &  -0.020 &  -0.018  \\\\\n",
       "Group Var &   1.552 &    0.030 &         &             &         &          \\\\\n",
       "\\hline\n",
       "\\end{tabular}\n",
       "\\end{center}\n",
       "\\end{table}\n",
       "\\bigskip\n"
      ],
      "text/plain": [
       "<class 'statsmodels.iolib.summary2.Summary'>\n",
       "\"\"\"\n",
       "          Mixed Linear Model Regression Results\n",
       "=========================================================\n",
       "Model:            MixedLM Dependent Variable: WAR        \n",
       "No. Observations: 27131   Method:             ML         \n",
       "No. Groups:       4912    Scale:              2.1895     \n",
       "Min. group size:  1       Log-Likelihood:     -52549.4625\n",
       "Max. group size:  24      Converged:          Yes        \n",
       "Mean group size:  5.5                                    \n",
       "---------------------------------------------------------\n",
       "            Coef.  Std.Err.    z    P>|z|  [0.025  0.975]\n",
       "---------------------------------------------------------\n",
       "Intercept  -12.063    0.414 -29.107 0.000 -12.876 -11.251\n",
       "Age          1.009    0.028  35.444 0.000   0.953   1.065\n",
       "Age2        -0.019    0.000 -38.618 0.000  -0.020  -0.018\n",
       "Group Var    1.552    0.030                              \n",
       "=========================================================\n",
       "\n",
       "\"\"\""
      ]
     },
     "execution_count": 88,
     "metadata": {},
     "output_type": "execute_result"
    }
   ],
   "source": [
    "batter_mixed_results.summary()"
   ]
  },
  {
   "cell_type": "code",
   "execution_count": 89,
   "id": "56bc8b37",
   "metadata": {},
   "outputs": [
    {
     "name": "stdout",
     "output_type": "stream",
     "text": [
      "105108.92498594127 105149.96714726396\n"
     ]
    }
   ],
   "source": [
    "print(batter_mixed_results.aic,batter_mixed_results.bic)"
   ]
  },
  {
   "cell_type": "code",
   "execution_count": null,
   "id": "ba23516a",
   "metadata": {},
   "outputs": [],
   "source": [
    "#questionable whether or not this model is better, but it allows us to use all players."
   ]
  },
  {
   "cell_type": "code",
   "execution_count": 90,
   "id": "920cd6a2",
   "metadata": {},
   "outputs": [
    {
     "data": {
      "image/png": "[encoded data removed]",
      "text/plain": [
       "<Figure size 800x500 with 1 Axes>"
      ]
     },
     "metadata": {},
     "output_type": "display_data"
    }
   ],
   "source": [
    "intercept = batter_mixed_results.params['Intercept']\n",
    "coef_age = batter_mixed_results.params['Age']\n",
    "coef_age2 = batter_mixed_results.params['Age2']\n",
    "age_range = np.linspace(batters_df['Age'].min(), batters_df['Age'].max(), 100)\n",
    "predicted_war = intercept + coef_age * age_range + coef_age2 * (age_range ** 2)\n",
    "plt.figure(figsize=(8,5))\n",
    "plt.plot(age_range, predicted_war, label='Predicted WAR (Average Aging Curve)')\n",
    "plt.scatter(batters_df['Age'], batters_df['WAR'], alpha=0.3, label='Observed WAR')\n",
    "plt.xlabel('Age')\n",
    "plt.ylabel('WAR')\n",
    "plt.title('Fitted Quadratic Aging Curve (Mixed Effects Model)')\n",
    "plt.legend()\n",
    "plt.grid(True)\n",
    "plt.show()"
   ]
  },
  {
   "cell_type": "code",
   "execution_count": 91,
   "id": "5d55db15",
   "metadata": {},
   "outputs": [],
   "source": [
    "#using this model to project\n",
    "\n",
    "latest_ages = batters_df.groupby('IDfg')['Age'].max().reset_index()\n",
    "latest_ages.rename(columns={'Age': 'CurrentAge'}, inplace=True)\n",
    "\n",
    "n_years = 3\n",
    "projection_rows = []\n",
    "projection_rows = []\n",
    "\n",
    "for _, row in latest_ages.iterrows():\n",
    "    player_id = row['IDfg']\n",
    "    current_age = row['CurrentAge']\n",
    "    \n",
    "    for i in range(1, n_years + 1):\n",
    "        future_age = current_age + i\n",
    "        projection_rows.append({\n",
    "            'IDfg': player_id,\n",
    "            'Age': future_age,\n",
    "            'Age2': future_age ** 2,\n",
    "            'YearFromNow': i\n",
    "        })\n",
    "\n",
    "future_batters_df = pd.DataFrame(projection_rows)\n",
    "\n",
    "random_effects = batter_mixed_results.random_effects\n",
    "fe = batter_mixed_results.fe_params\n",
    "future_batters_df['FixedPrediction'] = (\n",
    "    fe['Intercept'] +\n",
    "    fe['Age'] * future_batters_df['Age'] +\n",
    "    fe['Age2'] * future_batters_df['Age2']\n",
    ")\n",
    "future_batters_df['RandomEffect'] = future_batters_df['IDfg'].map(lambda pid: random_effects.get(pid, {'Group': 0})['Group'])\n",
    "future_batters_df['Predicted_WAR'] = future_batters_df['FixedPrediction'] + future_batters_df['RandomEffect']"
   ]
  },
  {
   "cell_type": "code",
   "execution_count": 100,
   "id": "09fa9690",
   "metadata": {},
   "outputs": [
    {
     "name": "stdout",
     "output_type": "stream",
     "text": [
      "      IDfg  Age  YearFromNow  Predicted_WAR            Name  LastSeason  \\\n",
      "1899  2136   37            1       0.194359   David Peralta        2024   \n",
      "1900  2136   38            2      -0.200358   David Peralta        2024   \n",
      "1901  2136   39            3      -0.632503   David Peralta        2024   \n",
      "1980  2396   39            1      -0.215151  Carlos Santana        2024   \n",
      "1981  2396   40            2      -0.684723  Carlos Santana        2024   \n",
      "1982  2396   41            3      -1.191722  Carlos Santana        2024   \n",
      "2076  2967   37            1       0.902442      Tommy Pham        2024   \n",
      "2077  2967   38            2       0.507725      Tommy Pham        2024   \n",
      "2078  2967   39            3       0.075580      Tommy Pham        2024   \n",
      "2208  3473   35            1       1.712175   Anthony Rizzo        2024   \n",
      "\n",
      "      Season  \n",
      "1899    2025  \n",
      "1900    2026  \n",
      "1901    2027  \n",
      "1980    2025  \n",
      "1981    2026  \n",
      "1982    2027  \n",
      "2076    2025  \n",
      "2077    2026  \n",
      "2078    2027  \n",
      "2208    2025  \n"
     ]
    }
   ],
   "source": [
    "player_names = batters_df[['IDfg', 'Name']].drop_duplicates()\n",
    "result = future_batters_df[['IDfg', 'Age', 'YearFromNow', 'Predicted_WAR']]\n",
    "\n",
    "result_with_names = result.merge(player_names, on='IDfg', how='left')\n",
    "latest_season = batters_df.groupby('IDfg')['Season'].max().reset_index()\n",
    "latest_season.rename(columns={'Season': 'LastSeason'}, inplace=True)\n",
    "result_with_names = result_with_names.merge(latest_season, on='IDfg', how='left')\n",
    "result_with_names['Season'] = result_with_names['LastSeason'] + result_with_names['YearFromNow']\n",
    "result_with_names = result_with_names[result_with_names['LastSeason']>2023]\n",
    "print(result_with_names.head(10))"
   ]
  },
  {
   "cell_type": "code",
   "execution_count": 104,
   "id": "06720cee",
   "metadata": {},
   "outputs": [],
   "source": [
    "war_sum_by_player = (\n",
    "    result_with_names\n",
    "    .groupby(['IDfg', 'Name'])['Predicted_WAR']\n",
    "    .sum()\n",
    "    .reset_index()\n",
    "    .rename(columns={'Predicted_WAR': 'Total_Projected_WAR'})\n",
    ")"
   ]
  },
  {
   "cell_type": "code",
   "execution_count": 106,
   "id": "409b220b",
   "metadata": {},
   "outputs": [
    {
     "data": {
      "application/vnd.microsoft.datawrangler.viewer.v0+json": {
       "columns": [
        {
         "name": "index",
         "rawType": "int64",
         "type": "integer"
        },
        {
         "name": "IDfg",
         "rawType": "int64",
         "type": "integer"
        },
        {
         "name": "Name",
         "rawType": "object",
         "type": "string"
        },
        {
         "name": "Total_Projected_WAR",
         "rawType": "float64",
         "type": "float"
        }
       ],
       "ref": "89eeec6a-0469-4532-ad5d-419bf639e52c",
       "rows": [
        [
         "103",
         "15640",
         "Aaron Judge",
         "16.359189760702495"
        ],
        [
         "213",
         "20123",
         "Juan Soto",
         "15.886302763699248"
        ],
        [
         "302",
         "25764",
         "Bobby Witt Jr.",
         "14.722439393648742"
        ],
        [
         "57",
         "12916",
         "Francisco Lindor",
         "13.913213117494639"
        ],
        [
         "318",
         "26289",
         "Gunnar Henderson",
         "13.304746833461214"
        ],
        [
         "69",
         "13611",
         "Mookie Betts",
         "13.285546098767231"
        ],
        [
         "278",
         "23697",
         "Julio Rodriguez",
         "12.790920210894129"
        ],
        [
         "186",
         "19556",
         "Yordan Alvarez",
         "11.92820028353502"
        ],
        [
         "138",
         "17678",
         "Alex Bregman",
         "11.800710427042317"
        ],
        [
         "160",
         "18401",
         "Ronald Acuna Jr.",
         "11.719071578328354"
        ],
        [
         "197",
         "19755",
         "Shohei Ohtani",
         "11.646427893724432"
        ],
        [
         "195",
         "19709",
         "Fernando Tatis Jr.",
         "11.57875807879741"
        ],
        [
         "67",
         "13510",
         "Jose Ramirez",
         "11.351764318362774"
        ],
        [
         "73",
         "13624",
         "Corey Seager",
         "10.829631805685857"
        ],
        [
         "236",
         "21534",
         "Cal Raleigh",
         "10.779669074845524"
        ],
        [
         "308",
         "25878",
         "Corbin Carroll",
         "10.75411108866092"
        ],
        [
         "155",
         "18345",
         "Kyle Tucker",
         "10.680316963571876"
        ],
        [
         "225",
         "20503",
         "William Contreras",
         "10.656223887787538"
        ],
        [
         "111",
         "16252",
         "Trea Turner",
         "10.61363567325429"
        ],
        [
         "39",
         "11493",
         "Manny Machado",
         "10.399926012699883"
        ],
        [
         "317",
         "26288",
         "Adley Rutschman",
         "10.3841714488687"
        ],
        [
         "81",
         "14162",
         "Carlos Correa",
         "10.277967821222541"
        ],
        [
         "40",
         "11579",
         "Bryce Harper",
         "10.087662689326391"
        ],
        [
         "232",
         "21479",
         "Nico Hoerner",
         "9.895498648359307"
        ],
        [
         "328",
         "26668",
         "Elly De La Cruz",
         "9.749303623102923"
        ],
        [
         "118",
         "16505",
         "Matt Chapman",
         "9.713510570241656"
        ],
        [
         "289",
         "24610",
         "Steven Kwan",
         "9.636027241841905"
        ],
        [
         "309",
         "25931",
         "Michael Harris II",
         "9.458277834138393"
        ],
        [
         "134",
         "17350",
         "Rafael Devers",
         "9.428993448989972"
        ],
        [
         "349",
         "29490",
         "Jackson Merrill",
         "9.319564025696803"
        ],
        [
         "206",
         "19950",
         "Andres Gimenez",
         "9.137251654111285"
        ],
        [
         "50",
         "12161",
         "Xander Bogaerts",
         "8.789503459326877"
        ],
        [
         "169",
         "19197",
         "Will Smith",
         "8.788983588542642"
        ],
        [
         "21",
         "9777",
         "Nolan Arenado",
         "8.744177230473277"
        ],
        [
         "211",
         "20036",
         "Isaac Paredes",
         "8.592496210813064"
        ],
        [
         "192",
         "19611",
         "Vladimir Guerrero Jr.",
         "8.591446538406865"
        ],
        [
         "193",
         "19612",
         "Bo Bichette",
         "8.590591182887437"
        ],
        [
         "156",
         "18360",
         "Austin Riley",
         "8.53818612915195"
        ],
        [
         "8",
         "5361",
         "Freddie Freeman",
         "8.527232088863487"
        ],
        [
         "122",
         "16556",
         "Ozzie Albies",
         "8.409353723255077"
        ],
        [
         "109",
         "15998",
         "Cody Bellinger",
         "8.287364476225004"
        ],
        [
         "108",
         "15986",
         "Willy Adames",
         "8.24643427334168"
        ],
        [
         "180",
         "19352",
         "Sean Murphy",
         "8.234548640996927"
        ],
        [
         "332",
         "27478",
         "Patrick Bailey",
         "8.226743259865374"
        ],
        [
         "267",
         "22581",
         "Alejandro Kirk",
         "8.048391332975392"
        ],
        [
         "37",
         "11477",
         "Christian Yelich",
         "7.931468201356761"
        ],
        [
         "9",
         "5417",
         "Jose Altuve",
         "7.923763676553573"
        ],
        [
         "145",
         "17929",
         "Cedric Mullins",
         "7.901887672469497"
        ],
        [
         "84",
         "14344",
         "Matt Olson",
         "7.898156343057606"
        ],
        [
         "70",
         "13613",
         "Ketel Marte",
         "7.5765158377437665"
        ]
       ],
       "shape": {
        "columns": 3,
        "rows": 365
       }
      },
      "text/html": [
       "<div>\n",
       "<style scoped>\n",
       "    .dataframe tbody tr th:only-of-type {\n",
       "        vertical-align: middle;\n",
       "    }\n",
       "\n",
       "    .dataframe tbody tr th {\n",
       "        vertical-align: top;\n",
       "    }\n",
       "\n",
       "    .dataframe thead th {\n",
       "        text-align: right;\n",
       "    }\n",
       "</style>\n",
       "<table border=\"1\" class=\"dataframe\">\n",
       "  <thead>\n",
       "    <tr style=\"text-align: right;\">\n",
       "      <th></th>\n",
       "      <th>IDfg</th>\n",
       "      <th>Name</th>\n",
       "      <th>Total_Projected_WAR</th>\n",
       "    </tr>\n",
       "  </thead>\n",
       "  <tbody>\n",
       "    <tr>\n",
       "      <th>103</th>\n",
       "      <td>15640</td>\n",
       "      <td>Aaron Judge</td>\n",
       "      <td>16.359190</td>\n",
       "    </tr>\n",
       "    <tr>\n",
       "      <th>213</th>\n",
       "      <td>20123</td>\n",
       "      <td>Juan Soto</td>\n",
       "      <td>15.886303</td>\n",
       "    </tr>\n",
       "    <tr>\n",
       "      <th>302</th>\n",
       "      <td>25764</td>\n",
       "      <td>Bobby Witt Jr.</td>\n",
       "      <td>14.722439</td>\n",
       "    </tr>\n",
       "    <tr>\n",
       "      <th>57</th>\n",
       "      <td>12916</td>\n",
       "      <td>Francisco Lindor</td>\n",
       "      <td>13.913213</td>\n",
       "    </tr>\n",
       "    <tr>\n",
       "      <th>318</th>\n",
       "      <td>26289</td>\n",
       "      <td>Gunnar Henderson</td>\n",
       "      <td>13.304747</td>\n",
       "    </tr>\n",
       "    <tr>\n",
       "      <th>...</th>\n",
       "      <td>...</td>\n",
       "      <td>...</td>\n",
       "      <td>...</td>\n",
       "    </tr>\n",
       "    <tr>\n",
       "      <th>16</th>\n",
       "      <td>7859</td>\n",
       "      <td>Charlie Blackmon</td>\n",
       "      <td>-1.366059</td>\n",
       "    </tr>\n",
       "    <tr>\n",
       "      <th>1</th>\n",
       "      <td>2396</td>\n",
       "      <td>Carlos Santana</td>\n",
       "      <td>-2.091597</td>\n",
       "    </tr>\n",
       "    <tr>\n",
       "      <th>43</th>\n",
       "      <td>11680</td>\n",
       "      <td>Elias Diaz</td>\n",
       "      <td>-2.231201</td>\n",
       "    </tr>\n",
       "    <tr>\n",
       "      <th>17</th>\n",
       "      <td>8623</td>\n",
       "      <td>Donovan Solano</td>\n",
       "      <td>-2.262071</td>\n",
       "    </tr>\n",
       "    <tr>\n",
       "      <th>55</th>\n",
       "      <td>12859</td>\n",
       "      <td>James McCann</td>\n",
       "      <td>-2.378408</td>\n",
       "    </tr>\n",
       "  </tbody>\n",
       "</table>\n",
       "<p>365 rows × 3 columns</p>\n",
       "</div>"
      ],
      "text/plain": [
       "      IDfg              Name  Total_Projected_WAR\n",
       "103  15640       Aaron Judge            16.359190\n",
       "213  20123         Juan Soto            15.886303\n",
       "302  25764    Bobby Witt Jr.            14.722439\n",
       "57   12916  Francisco Lindor            13.913213\n",
       "318  26289  Gunnar Henderson            13.304747\n",
       "..     ...               ...                  ...\n",
       "16    7859  Charlie Blackmon            -1.366059\n",
       "1     2396    Carlos Santana            -2.091597\n",
       "43   11680        Elias Diaz            -2.231201\n",
       "17    8623    Donovan Solano            -2.262071\n",
       "55   12859      James McCann            -2.378408\n",
       "\n",
       "[365 rows x 3 columns]"
      ]
     },
     "execution_count": 106,
     "metadata": {},
     "output_type": "execute_result"
    }
   ],
   "source": [
    "war_sum_by_player.sort_values('Total_Projected_WAR', ascending=False)"
   ]
  },
  {
   "cell_type": "code",
   "execution_count": 110,
   "id": "1d475287",
   "metadata": {},
   "outputs": [
    {
     "data": {
      "application/vnd.microsoft.datawrangler.viewer.v0+json": {
       "columns": [
        {
         "name": "index",
         "rawType": "int64",
         "type": "integer"
        },
        {
         "name": "IDfg",
         "rawType": "int64",
         "type": "integer"
        },
        {
         "name": "Name",
         "rawType": "object",
         "type": "string"
        },
        {
         "name": "Total_Projected_WAR",
         "rawType": "float64",
         "type": "float"
        },
        {
         "name": "projected_value",
         "rawType": "float64",
         "type": "float"
        }
       ],
       "ref": "264b000e-3053-41ab-a796-7fb32293d526",
       "rows": [
        [
         "103",
         "15640",
         "Aaron Judge",
         "16.359189760702495",
         "130.87351808561996"
        ],
        [
         "213",
         "20123",
         "Juan Soto",
         "15.886302763699248",
         "127.09042210959399"
        ],
        [
         "302",
         "25764",
         "Bobby Witt Jr.",
         "14.722439393648742",
         "117.77951514918993"
        ],
        [
         "57",
         "12916",
         "Francisco Lindor",
         "13.913213117494639",
         "111.30570493995711"
        ],
        [
         "318",
         "26289",
         "Gunnar Henderson",
         "13.304746833461214",
         "106.43797466768972"
        ],
        [
         "69",
         "13611",
         "Mookie Betts",
         "13.285546098767231",
         "106.28436879013785"
        ],
        [
         "278",
         "23697",
         "Julio Rodriguez",
         "12.790920210894129",
         "102.32736168715303"
        ],
        [
         "186",
         "19556",
         "Yordan Alvarez",
         "11.92820028353502",
         "95.42560226828016"
        ],
        [
         "138",
         "17678",
         "Alex Bregman",
         "11.800710427042317",
         "94.40568341633853"
        ],
        [
         "160",
         "18401",
         "Ronald Acuna Jr.",
         "11.719071578328354",
         "93.75257262662683"
        ],
        [
         "197",
         "19755",
         "Shohei Ohtani",
         "11.646427893724432",
         "93.17142314979546"
        ],
        [
         "195",
         "19709",
         "Fernando Tatis Jr.",
         "11.57875807879741",
         "92.63006463037928"
        ],
        [
         "67",
         "13510",
         "Jose Ramirez",
         "11.351764318362774",
         "90.81411454690219"
        ],
        [
         "73",
         "13624",
         "Corey Seager",
         "10.829631805685857",
         "86.63705444548685"
        ],
        [
         "236",
         "21534",
         "Cal Raleigh",
         "10.779669074845524",
         "86.23735259876419"
        ],
        [
         "308",
         "25878",
         "Corbin Carroll",
         "10.75411108866092",
         "86.03288870928736"
        ],
        [
         "155",
         "18345",
         "Kyle Tucker",
         "10.680316963571876",
         "85.44253570857501"
        ],
        [
         "225",
         "20503",
         "William Contreras",
         "10.656223887787538",
         "85.2497911023003"
        ],
        [
         "111",
         "16252",
         "Trea Turner",
         "10.61363567325429",
         "84.90908538603432"
        ],
        [
         "39",
         "11493",
         "Manny Machado",
         "10.399926012699883",
         "83.19940810159906"
        ],
        [
         "317",
         "26288",
         "Adley Rutschman",
         "10.3841714488687",
         "83.0733715909496"
        ],
        [
         "81",
         "14162",
         "Carlos Correa",
         "10.277967821222541",
         "82.22374256978033"
        ],
        [
         "40",
         "11579",
         "Bryce Harper",
         "10.087662689326391",
         "80.70130151461113"
        ],
        [
         "232",
         "21479",
         "Nico Hoerner",
         "9.895498648359307",
         "79.16398918687446"
        ],
        [
         "328",
         "26668",
         "Elly De La Cruz",
         "9.749303623102923",
         "77.99442898482339"
        ],
        [
         "118",
         "16505",
         "Matt Chapman",
         "9.713510570241656",
         "77.70808456193325"
        ],
        [
         "289",
         "24610",
         "Steven Kwan",
         "9.636027241841905",
         "77.08821793473524"
        ],
        [
         "309",
         "25931",
         "Michael Harris II",
         "9.458277834138393",
         "75.66622267310714"
        ],
        [
         "134",
         "17350",
         "Rafael Devers",
         "9.428993448989972",
         "75.43194759191978"
        ],
        [
         "349",
         "29490",
         "Jackson Merrill",
         "9.319564025696803",
         "74.55651220557442"
        ],
        [
         "206",
         "19950",
         "Andres Gimenez",
         "9.137251654111285",
         "73.09801323289028"
        ],
        [
         "50",
         "12161",
         "Xander Bogaerts",
         "8.789503459326877",
         "70.31602767461501"
        ],
        [
         "169",
         "19197",
         "Will Smith",
         "8.788983588542642",
         "70.31186870834114"
        ],
        [
         "21",
         "9777",
         "Nolan Arenado",
         "8.744177230473277",
         "69.95341784378621"
        ],
        [
         "211",
         "20036",
         "Isaac Paredes",
         "8.592496210813064",
         "68.73996968650451"
        ],
        [
         "192",
         "19611",
         "Vladimir Guerrero Jr.",
         "8.591446538406865",
         "68.73157230725492"
        ],
        [
         "193",
         "19612",
         "Bo Bichette",
         "8.590591182887437",
         "68.7247294630995"
        ],
        [
         "156",
         "18360",
         "Austin Riley",
         "8.53818612915195",
         "68.3054890332156"
        ],
        [
         "8",
         "5361",
         "Freddie Freeman",
         "8.527232088863487",
         "68.2178567109079"
        ],
        [
         "122",
         "16556",
         "Ozzie Albies",
         "8.409353723255077",
         "67.27482978604061"
        ],
        [
         "109",
         "15998",
         "Cody Bellinger",
         "8.287364476225004",
         "66.29891580980004"
        ],
        [
         "108",
         "15986",
         "Willy Adames",
         "8.24643427334168",
         "65.97147418673345"
        ],
        [
         "180",
         "19352",
         "Sean Murphy",
         "8.234548640996927",
         "65.87638912797541"
        ],
        [
         "332",
         "27478",
         "Patrick Bailey",
         "8.226743259865374",
         "65.813946078923"
        ],
        [
         "267",
         "22581",
         "Alejandro Kirk",
         "8.048391332975392",
         "64.38713066380313"
        ],
        [
         "37",
         "11477",
         "Christian Yelich",
         "7.931468201356761",
         "63.45174561085409"
        ],
        [
         "9",
         "5417",
         "Jose Altuve",
         "7.923763676553573",
         "63.390109412428586"
        ],
        [
         "145",
         "17929",
         "Cedric Mullins",
         "7.901887672469497",
         "63.21510137975598"
        ],
        [
         "84",
         "14344",
         "Matt Olson",
         "7.898156343057606",
         "63.185250744460845"
        ],
        [
         "70",
         "13613",
         "Ketel Marte",
         "7.5765158377437665",
         "60.61212670195013"
        ]
       ],
       "shape": {
        "columns": 4,
        "rows": 365
       }
      },
      "text/html": [
       "<div>\n",
       "<style scoped>\n",
       "    .dataframe tbody tr th:only-of-type {\n",
       "        vertical-align: middle;\n",
       "    }\n",
       "\n",
       "    .dataframe tbody tr th {\n",
       "        vertical-align: top;\n",
       "    }\n",
       "\n",
       "    .dataframe thead th {\n",
       "        text-align: right;\n",
       "    }\n",
       "</style>\n",
       "<table border=\"1\" class=\"dataframe\">\n",
       "  <thead>\n",
       "    <tr style=\"text-align: right;\">\n",
       "      <th></th>\n",
       "      <th>IDfg</th>\n",
       "      <th>Name</th>\n",
       "      <th>Total_Projected_WAR</th>\n",
       "      <th>projected_value</th>\n",
       "    </tr>\n",
       "  </thead>\n",
       "  <tbody>\n",
       "    <tr>\n",
       "      <th>103</th>\n",
       "      <td>15640</td>\n",
       "      <td>Aaron Judge</td>\n",
       "      <td>16.359190</td>\n",
       "      <td>130.873518</td>\n",
       "    </tr>\n",
       "    <tr>\n",
       "      <th>213</th>\n",
       "      <td>20123</td>\n",
       "      <td>Juan Soto</td>\n",
       "      <td>15.886303</td>\n",
       "      <td>127.090422</td>\n",
       "    </tr>\n",
       "    <tr>\n",
       "      <th>302</th>\n",
       "      <td>25764</td>\n",
       "      <td>Bobby Witt Jr.</td>\n",
       "      <td>14.722439</td>\n",
       "      <td>117.779515</td>\n",
       "    </tr>\n",
       "    <tr>\n",
       "      <th>57</th>\n",
       "      <td>12916</td>\n",
       "      <td>Francisco Lindor</td>\n",
       "      <td>13.913213</td>\n",
       "      <td>111.305705</td>\n",
       "    </tr>\n",
       "    <tr>\n",
       "      <th>318</th>\n",
       "      <td>26289</td>\n",
       "      <td>Gunnar Henderson</td>\n",
       "      <td>13.304747</td>\n",
       "      <td>106.437975</td>\n",
       "    </tr>\n",
       "    <tr>\n",
       "      <th>...</th>\n",
       "      <td>...</td>\n",
       "      <td>...</td>\n",
       "      <td>...</td>\n",
       "      <td>...</td>\n",
       "    </tr>\n",
       "    <tr>\n",
       "      <th>16</th>\n",
       "      <td>7859</td>\n",
       "      <td>Charlie Blackmon</td>\n",
       "      <td>-1.366059</td>\n",
       "      <td>-10.928473</td>\n",
       "    </tr>\n",
       "    <tr>\n",
       "      <th>1</th>\n",
       "      <td>2396</td>\n",
       "      <td>Carlos Santana</td>\n",
       "      <td>-2.091597</td>\n",
       "      <td>-16.732777</td>\n",
       "    </tr>\n",
       "    <tr>\n",
       "      <th>43</th>\n",
       "      <td>11680</td>\n",
       "      <td>Elias Diaz</td>\n",
       "      <td>-2.231201</td>\n",
       "      <td>-17.849606</td>\n",
       "    </tr>\n",
       "    <tr>\n",
       "      <th>17</th>\n",
       "      <td>8623</td>\n",
       "      <td>Donovan Solano</td>\n",
       "      <td>-2.262071</td>\n",
       "      <td>-18.096565</td>\n",
       "    </tr>\n",
       "    <tr>\n",
       "      <th>55</th>\n",
       "      <td>12859</td>\n",
       "      <td>James McCann</td>\n",
       "      <td>-2.378408</td>\n",
       "      <td>-19.027267</td>\n",
       "    </tr>\n",
       "  </tbody>\n",
       "</table>\n",
       "<p>365 rows × 4 columns</p>\n",
       "</div>"
      ],
      "text/plain": [
       "      IDfg              Name  Total_Projected_WAR  projected_value\n",
       "103  15640       Aaron Judge            16.359190       130.873518\n",
       "213  20123         Juan Soto            15.886303       127.090422\n",
       "302  25764    Bobby Witt Jr.            14.722439       117.779515\n",
       "57   12916  Francisco Lindor            13.913213       111.305705\n",
       "318  26289  Gunnar Henderson            13.304747       106.437975\n",
       "..     ...               ...                  ...              ...\n",
       "16    7859  Charlie Blackmon            -1.366059       -10.928473\n",
       "1     2396    Carlos Santana            -2.091597       -16.732777\n",
       "43   11680        Elias Diaz            -2.231201       -17.849606\n",
       "17    8623    Donovan Solano            -2.262071       -18.096565\n",
       "55   12859      James McCann            -2.378408       -19.027267\n",
       "\n",
       "[365 rows x 4 columns]"
      ]
     },
     "execution_count": 110,
     "metadata": {},
     "output_type": "execute_result"
    }
   ],
   "source": [
    "war_sum_by_player['projected_value'] = 8*war_sum_by_player['Total_Projected_WAR']\n",
    "war_sum_by_player.sort_values('projected_value', ascending=False)"
   ]
  },
  {
   "cell_type": "code",
   "execution_count": 6,
   "id": "5e8bee0c",
   "metadata": {},
   "outputs": [
    {
     "data": {
      "application/vnd.microsoft.datawrangler.viewer.v0+json": {
       "columns": [
        {
         "name": "index",
         "rawType": "int64",
         "type": "integer"
        },
        {
         "name": "yearID",
         "rawType": "int64",
         "type": "integer"
        },
        {
         "name": "lgID",
         "rawType": "object",
         "type": "string"
        },
        {
         "name": "teamID",
         "rawType": "object",
         "type": "string"
        },
        {
         "name": "franchID",
         "rawType": "object",
         "type": "string"
        },
        {
         "name": "teamIDfg",
         "rawType": "int64",
         "type": "integer"
        },
        {
         "name": "teamIDBR",
         "rawType": "object",
         "type": "string"
        },
        {
         "name": "teamIDretro",
         "rawType": "object",
         "type": "string"
        }
       ],
       "ref": "df05f546-5984-46b4-82e4-e0e14ebc1b34",
       "rows": [],
       "shape": {
        "columns": 7,
        "rows": 0
       }
      },
      "text/html": [
       "<div>\n",
       "<style scoped>\n",
       "    .dataframe tbody tr th:only-of-type {\n",
       "        vertical-align: middle;\n",
       "    }\n",
       "\n",
       "    .dataframe tbody tr th {\n",
       "        vertical-align: top;\n",
       "    }\n",
       "\n",
       "    .dataframe thead th {\n",
       "        text-align: right;\n",
       "    }\n",
       "</style>\n",
       "<table border=\"1\" class=\"dataframe\">\n",
       "  <thead>\n",
       "    <tr style=\"text-align: right;\">\n",
       "      <th></th>\n",
       "      <th>yearID</th>\n",
       "      <th>lgID</th>\n",
       "      <th>teamID</th>\n",
       "      <th>franchID</th>\n",
       "      <th>teamIDfg</th>\n",
       "      <th>teamIDBR</th>\n",
       "      <th>teamIDretro</th>\n",
       "    </tr>\n",
       "  </thead>\n",
       "  <tbody>\n",
       "  </tbody>\n",
       "</table>\n",
       "</div>"
      ],
      "text/plain": [
       "Empty DataFrame\n",
       "Columns: [yearID, lgID, teamID, franchID, teamIDfg, teamIDBR, teamIDretro]\n",
       "Index: []"
      ]
     },
     "execution_count": 6,
     "metadata": {},
     "output_type": "execute_result"
    }
   ],
   "source": []
  },
  {
   "cell_type": "code",
   "execution_count": null,
   "id": "719601d8",
   "metadata": {},
   "outputs": [],
   "source": [
    "pitchers_df = pb.pitching_stats(start_season = 1920, end_season = 2024, stat_columns = ['Name', 'Age', 'Season', 'WAR','W'], qual=50)"
   ]
  },
  {
   "cell_type": "code",
   "execution_count": null,
   "id": "fea77974",
   "metadata": {},
   "outputs": [],
   "source": []
  }
 ],
 "metadata": {
  "kernelspec": {
   "display_name": "baseball_data",
   "language": "python",
   "name": "python3"
  },
  "language_info": {
   "codemirror_mode": {
    "name": "ipython",
    "version": 3
   },
   "file_extension": ".py",
   "mimetype": "text/x-python",
   "name": "python",
   "nbconvert_exporter": "python",
   "pygments_lexer": "ipython3",
   "version": "3.11.11"
  }
 },
 "nbformat": 4,
 "nbformat_minor": 5
}
